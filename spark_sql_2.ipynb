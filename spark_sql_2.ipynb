{
 "cells": [
  {
   "cell_type": "markdown",
   "metadata": {},
   "source": [
    "[Dataset Kaggle](https://www.kaggle.com/martinellis/nhl-game-data)\n",
    "\n",
    "[Medium](https://towardsdatascience.com/a-brief-introduction-to-pyspark-ff4284701873)\n",
    "\n",
    "[Documentation](https://spark.apache.org/docs/2.3.0/api/python/pyspark.sql.html#pyspark.sql.SparkSession)"
   ]
  },
  {
   "cell_type": "code",
   "execution_count": 10,
   "metadata": {
    "ExecuteTime": {
     "end_time": "2019-08-01T19:38:33.634785Z",
     "start_time": "2019-08-01T19:38:33.622736Z"
    }
   },
   "outputs": [],
   "source": [
    "import pandas as pd \n",
    "import numpy\n",
    "import matplotlib.pyplot as plt \n",
    "from pyspark.sql import SparkSession, SQLContext\n",
    "# create sparksession\n",
    "spark = SparkSession \\\n",
    "    .builder \\\n",
    "    .appName(\"prueba_sql\") \\\n",
    "    .config(\"spark.some.config.option\", \"some-value\") \\\n",
    "    .getOrCreate()"
   ]
  },
  {
   "cell_type": "markdown",
   "metadata": {},
   "source": [
    "Se lee el archivo en el dataframe de Spark y luego se pasa a *parquet*  ya que es un formato que incluye metadata del tipo de datos de las columnas, ofrece compresión de archivo y es un formato de archivo diseñado para trabajar bien con Spark"
   ]
  },
  {
   "cell_type": "code",
   "execution_count": 13,
   "metadata": {
    "ExecuteTime": {
     "end_time": "2019-08-01T19:40:43.347949Z",
     "start_time": "2019-08-01T19:40:42.291931Z"
    },
    "cell_style": "split"
   },
   "outputs": [
    {
     "data": {
      "text/plain": [
       "DataFrame[game_id: int, player_id: int, team_id: int, timeOnIce: int, assists: int, goals: int, shots: int, hits: int, powerPlayGoals: int, powerPlayAssists: int, penaltyMinutes: int, faceOffWins: int, faceoffTaken: int, takeaways: int, giveaways: int, shortHandedGoals: int, shortHandedAssists: int, blocked: int, plusMinus: int, evenTimeOnIce: int, shortHandedTimeOnIce: int, powerPlayTimeOnIce: int]"
      ]
     },
     "metadata": {},
     "output_type": "display_data"
    }
   ],
   "source": [
    "file_location = '/home/jovyan/work/Spark/spark-warehouse/game_skater_stats.csv'\n",
    "df = spark.read.format(\"csv\").option(\"inferSchema\", \n",
    "           True).option(\"header\", True).load(file_location)\n",
    "display(df)"
   ]
  },
  {
   "cell_type": "code",
   "execution_count": 14,
   "metadata": {
    "ExecuteTime": {
     "end_time": "2019-08-01T19:40:45.155538Z",
     "start_time": "2019-08-01T19:40:44.128883Z"
    },
    "cell_style": "split"
   },
   "outputs": [
    {
     "data": {
      "text/plain": [
       "DataFrame[game_id: int, player_id: int, team_id: int, timeOnIce: int, assists: int, goals: int, shots: int, hits: int, powerPlayGoals: int, powerPlayAssists: int, penaltyMinutes: int, faceOffWins: int, faceoffTaken: int, takeaways: int, giveaways: int, shortHandedGoals: int, shortHandedAssists: int, blocked: int, plusMinus: int, evenTimeOnIce: int, shortHandedTimeOnIce: int, powerPlayTimeOnIce: int]"
      ]
     },
     "metadata": {},
     "output_type": "display_data"
    }
   ],
   "source": [
    "df.write.save('/home/jovyan/work/Spark/spark-warehouse/game_skater_stats',  \n",
    "               format='parquet')\n",
    "df = spark.read.load(\"/home/jovyan/work/Spark/spark-warehouse/game_skater_stats\")\n",
    "display(df)"
   ]
  },
  {
   "cell_type": "code",
   "execution_count": 22,
   "metadata": {
    "ExecuteTime": {
     "end_time": "2019-08-01T20:14:15.387260Z",
     "start_time": "2019-08-01T20:14:15.049487Z"
    }
   },
   "outputs": [],
   "source": [
    "names = spark.read.format(\"CSV\").option(\"inferSchema\", True).option(\"header\", True).load('/home/jovyan/work/Spark/spark-warehouse/player_info.csv')"
   ]
  },
  {
   "cell_type": "markdown",
   "metadata": {
    "ExecuteTime": {
     "end_time": "2019-08-01T20:04:00.960847Z",
     "start_time": "2019-08-01T20:04:00.947570Z"
    }
   },
   "source": [
    "### Consultas\n",
    "Primero se crea una tabla temporala la cual se le hacen las conultas"
   ]
  },
  {
   "cell_type": "code",
   "execution_count": 18,
   "metadata": {
    "ExecuteTime": {
     "end_time": "2019-08-01T20:05:50.737848Z",
     "start_time": "2019-08-01T20:05:49.306484Z"
    },
    "cell_style": "split"
   },
   "outputs": [
    {
     "name": "stdout",
     "output_type": "stream",
     "text": [
      "+---------+-----+-----+\n",
      "|player_id|games|goals|\n",
      "+---------+-----+-----+\n",
      "|  8471214|  788|  434|\n",
      "|  8474564|  655|  342|\n",
      "|  8474141|  748|  311|\n",
      "|  8475166|  700|  308|\n",
      "|  8470794|  782|  305|\n",
      "+---------+-----+-----+\n",
      "\n"
     ]
    }
   ],
   "source": [
    "df.createOrReplaceTempView(\"stats\")\n",
    "\n",
    "(spark.sql(\"\"\"\n",
    "  select player_id, sum(1) as games, sum(goals) as goals\n",
    "  from stats\n",
    "  group by 1\n",
    "  order by 3 desc\n",
    "  limit 5\n",
    "\"\"\")).show()"
   ]
  },
  {
   "cell_type": "code",
   "execution_count": 40,
   "metadata": {
    "ExecuteTime": {
     "end_time": "2019-08-01T20:37:28.148446Z",
     "start_time": "2019-08-01T20:37:28.141144Z"
    },
    "cell_style": "split"
   },
   "outputs": [
    {
     "data": {
      "text/plain": [
       "['game_id',\n",
       " 'player_id',\n",
       " 'team_id',\n",
       " 'timeOnIce',\n",
       " 'assists',\n",
       " 'goals',\n",
       " 'shots',\n",
       " 'hits',\n",
       " 'powerPlayGoals',\n",
       " 'powerPlayAssists',\n",
       " 'penaltyMinutes',\n",
       " 'faceOffWins',\n",
       " 'faceoffTaken',\n",
       " 'takeaways',\n",
       " 'giveaways',\n",
       " 'shortHandedGoals',\n",
       " 'shortHandedAssists',\n",
       " 'blocked',\n",
       " 'plusMinus',\n",
       " 'evenTimeOnIce',\n",
       " 'shortHandedTimeOnIce',\n",
       " 'powerPlayTimeOnIce']"
      ]
     },
     "execution_count": 40,
     "metadata": {},
     "output_type": "execute_result"
    }
   ],
   "source": [
    "df.columns"
   ]
  },
  {
   "cell_type": "markdown",
   "metadata": {},
   "source": [
    "A las consultas se les puede asignar un *dataframe* y guardar una nueva tabla temporal"
   ]
  },
  {
   "cell_type": "code",
   "execution_count": 33,
   "metadata": {
    "ExecuteTime": {
     "end_time": "2019-08-01T20:26:59.211204Z",
     "start_time": "2019-08-01T20:26:58.827763Z"
    },
    "cell_style": "split"
   },
   "outputs": [
    {
     "name": "stdout",
     "output_type": "stream",
     "text": [
      "+---------+-----+-----+\n",
      "|player_id|games|goals|\n",
      "+---------+-----+-----+\n",
      "|  8471214|  788|  434|\n",
      "|  8474564|  655|  342|\n",
      "|  8474141|  748|  311|\n",
      "|  8475166|  700|  308|\n",
      "|  8470794|  782|  305|\n",
      "+---------+-----+-----+\n",
      "\n"
     ]
    }
   ],
   "source": [
    "#Jugadores con más goles y partidos\n",
    "top_players = spark.sql(\"\"\"\n",
    "  select player_id, sum(1) as games,\n",
    "  sum(goals) as goals\n",
    "  from stats\n",
    "  group by 1\n",
    "  order by 3 desc\n",
    "  limit 5\n",
    "\"\"\").show()"
   ]
  },
  {
   "cell_type": "code",
   "execution_count": 32,
   "metadata": {
    "ExecuteTime": {
     "end_time": "2019-08-01T20:26:21.320164Z",
     "start_time": "2019-08-01T20:26:20.722095Z"
    },
    "cell_style": "split"
   },
   "outputs": [
    {
     "name": "stdout",
     "output_type": "stream",
     "text": [
      "+---------+-----+---------+--------+\n",
      "|player_id|goals|firstName|lastName|\n",
      "+---------+-----+---------+--------+\n",
      "|  8471214|  434|     Alex|Ovechkin|\n",
      "|  8474564|  342|   Steven| Stamkos|\n",
      "|  8474141|  311|  Patrick|    Kane|\n",
      "|  8475166|  308|     John| Tavares|\n",
      "|  8470794|  305|      Joe|Pavelski|\n",
      "+---------+-----+---------+--------+\n",
      "\n"
     ]
    }
   ],
   "source": [
    "#Se crean las tablas temporales\n",
    "top_players.createOrReplaceTempView(\"top_players\")\n",
    "names.createOrReplaceTempView(\"names\")\n",
    "#Consultas a las nuevas tablas\n",
    "(spark.sql(\"\"\"\n",
    "select p.player_id, goals, firstName, lastName\n",
    "from top_players p\n",
    "join names n\n",
    "  on p.player_id = n.player_id\n",
    "order by 2 desc  \n",
    "\"\"\")).show()"
   ]
  },
  {
   "cell_type": "code",
   "execution_count": 41,
   "metadata": {
    "ExecuteTime": {
     "end_time": "2019-08-01T20:37:54.468899Z",
     "start_time": "2019-08-01T20:37:54.370835Z"
    },
    "cell_style": "split"
   },
   "outputs": [
    {
     "name": "stdout",
     "output_type": "stream",
     "text": [
      "+----------+\n",
      "|   game_id|\n",
      "+----------+\n",
      "|2010020458|\n",
      "|2010020458|\n",
      "|2010020458|\n",
      "|2010020458|\n",
      "|2010020458|\n",
      "+----------+\n",
      "\n"
     ]
    }
   ],
   "source": [
    "spark.sql('''\n",
    "SELECT game_id from stats\n",
    "LIMIT 5\n",
    "''').show()\n",
    "\n",
    "#De aquí se obtiene la fecha \n",
    "# separándolo por '-'"
   ]
  },
  {
   "cell_type": "code",
   "execution_count": 42,
   "metadata": {
    "ExecuteTime": {
     "end_time": "2019-08-01T20:39:11.847405Z",
     "start_time": "2019-08-01T20:39:11.036111Z"
    },
    "cell_style": "split"
   },
   "outputs": [
    {
     "name": "stdout",
     "output_type": "stream",
     "text": [
      "+----------+------------------+\n",
      "|     month|    goals_per_goal|\n",
      "+----------+------------------+\n",
      "|2010-02-01| 5.464227642276422|\n",
      "|2010-03-01| 5.606741573033708|\n",
      "|2011-02-01|5.3203252032520325|\n",
      "+----------+------------------+\n",
      "only showing top 3 rows\n",
      "\n"
     ]
    }
   ],
   "source": [
    "spark.sql(\"\"\"\n",
    "select cast(substring(game_id, 1, 4) || '-' \n",
    "  || substring(game_id, 5, 2) || '-01' as Date) as month\n",
    "  , sum(goals)/count(distinct game_id) as goals_per_goal\n",
    "from stats\n",
    "group by 1\n",
    "order by 1\n",
    "\"\"\").show(3)"
   ]
  },
  {
   "cell_type": "markdown",
   "metadata": {},
   "source": [
    "### MLlib: Regresión Linear\n",
    "El modelo predice cuántos goles va a meter un jugador"
   ]
  },
  {
   "cell_type": "code",
   "execution_count": 43,
   "metadata": {
    "ExecuteTime": {
     "end_time": "2019-08-01T20:55:23.578368Z",
     "start_time": "2019-08-01T20:55:19.668119Z"
    }
   },
   "outputs": [
    {
     "name": "stdout",
     "output_type": "stream",
     "text": [
      "Coefficients: [0.09353643668143533,-0.006632536309343128,0.005487355356078049,-0.00017779234579156684,-4.317801186031882e-05,0.017566692293079462]\n",
      "RMSE: 0.378003\n",
      "R2: 0.126676\n"
     ]
    }
   ],
   "source": [
    "# MLlib imports\n",
    "from pyspark.ml.feature import VectorAssembler\n",
    "from pyspark.ml.regression import LinearRegression\n",
    "\n",
    "# Create a vector representation for features\n",
    "assembler = VectorAssembler(inputCols=['shots', 'hits', 'assists', \n",
    "    'penaltyMinutes','timeOnIce','takeaways'],outputCol=\"features\")\n",
    "train_df = assembler.transform(df)\n",
    "\n",
    "# Fit a linear regression model\n",
    "lr = LinearRegression(featuresCol = 'features', labelCol='goals')\n",
    "lr_model = lr.fit(train_df)\n",
    "\n",
    "# Output statistics \n",
    "trainingSummary = lr_model.summary\n",
    "print(\"Coefficients: \" + str(lr_model.coefficients))\n",
    "print(\"RMSE: %f\" % trainingSummary.rootMeanSquaredError)\n",
    "print(\"R2: %f\" % trainingSummary.r2)"
   ]
  },
  {
   "cell_type": "code",
   "execution_count": 48,
   "metadata": {
    "ExecuteTime": {
     "end_time": "2019-08-01T21:15:44.361853Z",
     "start_time": "2019-08-01T21:15:43.870767Z"
    }
   },
   "outputs": [
    {
     "name": "stdout",
     "output_type": "stream",
     "text": [
      "(array([ 2.98572669, -0.02376583]), 3)\n"
     ]
    }
   ],
   "source": [
    "# Sample data for a player \n",
    "sample_pd = spark.sql(\"\"\"\n",
    "  select * from stats\n",
    "  where player_id = 8471214\n",
    "\"\"\").toPandas()\n",
    "\n",
    "# Import python libraries \n",
    "from scipy.optimize import leastsq\n",
    "import numpy as np\n",
    "\n",
    "# Define a function to fit\n",
    "def fit(params, x, y):\n",
    "    return (y - (params[0] + x * params[1] ))\n",
    "# Fit the curve and show the results \n",
    "result = leastsq(fit, [1, 0], \n",
    "                 args=(sample_pd.shots, sample_pd.hits))\n",
    "print(result)"
   ]
  },
  {
   "cell_type": "code",
   "execution_count": null,
   "metadata": {},
   "outputs": [],
   "source": []
  }
 ],
 "metadata": {
  "kernelspec": {
   "display_name": "Python 3",
   "language": "python",
   "name": "python3"
  },
  "language_info": {
   "codemirror_mode": {
    "name": "ipython",
    "version": 3
   },
   "file_extension": ".py",
   "mimetype": "text/x-python",
   "name": "python",
   "nbconvert_exporter": "python",
   "pygments_lexer": "ipython3",
   "version": "3.7.3"
  }
 },
 "nbformat": 4,
 "nbformat_minor": 2
}
